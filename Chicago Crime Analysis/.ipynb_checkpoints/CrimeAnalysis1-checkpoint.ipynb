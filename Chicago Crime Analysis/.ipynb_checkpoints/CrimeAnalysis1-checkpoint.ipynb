{
 "cells": [
  {
   "cell_type": "code",
   "execution_count": 5,
   "metadata": {},
   "outputs": [],
   "source": [
    "import datetime\n",
    "import pandas as pd\n",
    "import numpy as np\n",
    "import seaborn as sns\n",
    "%matplotlib inline\n",
    "import matplotlib.pyplot as plt"
   ]
  },
  {
   "cell_type": "code",
   "execution_count": 6,
   "metadata": {},
   "outputs": [
    {
     "name": "stdout",
     "output_type": "stream",
     "text": [
      "ROBBERY\n",
      "Jan:  21279\n",
      "Feb:  15125\n",
      "Mar:  18114\n",
      "Apr:  18786\n",
      "May:  21305\n",
      "Jun:  21729\n",
      "Jul:  24257\n",
      "Aug:  24404\n",
      "Sep:  23092\n",
      "Oct:  24541\n",
      "Nov:  22421\n",
      "Dec:  22637\n",
      "Total:  257690\n"
     ]
    }
   ],
   "source": [
    "def NumberOfCrimeType(typeOfCrime):\n",
    "    df1 = pd.read_csv(\"Crimes.csv\", header=None, usecols=[2,5])\n",
    "\n",
    "    jan = 0\n",
    "    feb = 0\n",
    "    mar = 0\n",
    "    apr = 0\n",
    "    may = 0\n",
    "    jun = 0\n",
    "    jul = 0\n",
    "    aug = 0\n",
    "    sep = 0\n",
    "    octo = 0\n",
    "    nov = 0\n",
    "    dec = 0\n",
    "    cnt = 0\n",
    "    \n",
    "    for e,f in zip(df1[5],df1[2]):\n",
    "        if e == typeOfCrime:\n",
    "            cnt = cnt + 1\n",
    "            pos = f.find(\" \")\n",
    "            dt = f[:pos]\n",
    "            l = dt.split(\"/\")\n",
    "            month = int(l[0])\n",
    "            if month == 1:\n",
    "                jan = jan + 1\n",
    "            elif month == 2:\n",
    "                feb = feb + 1\n",
    "            elif month == 3:\n",
    "                mar = mar + 1\n",
    "            elif month == 4:\n",
    "                apr = apr + 1\n",
    "            elif month == 5:\n",
    "                may = may + 1\n",
    "            elif month == 6:\n",
    "                jun = jun + 1\n",
    "            elif month == 7:\n",
    "                jul = jul + 1\n",
    "            elif month == 8:\n",
    "                aug = aug + 1\n",
    "            elif month == 9:\n",
    "                sep = sep + 1\n",
    "            elif month == 10:\n",
    "                octo = octo + 1\n",
    "            elif month == 11:\n",
    "                nov = nov + 1\n",
    "            else:\n",
    "                dec = dec + 1\n",
    "\n",
    "    print(typeOfCrime)\n",
    "    print(\"Jan: \" , jan)\n",
    "    print(\"Feb: \" , feb)\n",
    "    print(\"Mar: \" , mar)\n",
    "    print(\"Apr: \" , apr)\n",
    "    print(\"May: \" , may)\n",
    "    print(\"Jun: \" , jun)\n",
    "    print(\"Jul: \" , jul)\n",
    "    print(\"Aug: \" , aug)\n",
    "    print(\"Sep: \" , sep)\n",
    "    print(\"Oct: \" , octo)\n",
    "    print(\"Nov: \" , nov)\n",
    "    print(\"Dec: \" , dec)\n",
    "    print(\"Total: \", cnt)\n",
    "\n",
    "\n",
    "NumberOfCrimeType(\"ROBBERY\")\n"
   ]
  },
  {
   "cell_type": "code",
   "execution_count": 7,
   "metadata": {},
   "outputs": [
    {
     "data": {
      "image/png": "[encoded data removed]",
      "text/plain": [
       "<Figure size 432x288 with 1 Axes>"
      ]
     },
     "metadata": {
      "needs_background": "light"
     },
     "output_type": "display_data"
    }
   ],
   "source": [
    "df1 = pd.read_csv(\"Crimes.csv\", nrows=100000)\n",
    "df1.tail()\n",
    "\n",
    "fig=sns.countplot(x='Arrest', hue='Domestic',data=df1)\n",
    "fig.set(xticklabels=['Not Arrested','Arrested'])\n",
    "fig.set(title='How many arrested for domestic crimes')\n",
    "\n",
    "plt.show(fig)"
   ]
  },
  {
   "cell_type": "code",
   "execution_count": null,
   "metadata": {},
   "outputs": [],
   "source": []
  }
 ],
 "metadata": {
  "kernelspec": {
   "display_name": "Python 3",
   "language": "python",
   "name": "python3"
  },
  "language_info": {
   "codemirror_mode": {
    "name": "ipython",
    "version": 3
   },
   "file_extension": ".py",
   "mimetype": "text/x-python",
   "name": "python",
   "nbconvert_exporter": "python",
   "pygments_lexer": "ipython3",
   "version": "3.7.1"
  }
 },
 "nbformat": 4,
 "nbformat_minor": 2
}
