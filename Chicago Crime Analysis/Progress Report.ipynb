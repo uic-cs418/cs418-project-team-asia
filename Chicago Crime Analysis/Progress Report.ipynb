{
 "cells": [
  {
   "cell_type": "code",
   "execution_count": 55,
   "metadata": {},
   "outputs": [],
   "source": [
    "import datetime\n",
    "import pandas as pd\n",
    "import numpy as np\n",
    "import seaborn as sns\n",
    "%matplotlib inline\n",
    "import matplotlib.pyplot as plt\n",
    "from sklearn import linear_model\n",
    "from sklearn.metrics import mean_squared_error, r2_score"
   ]
  },
  {
   "cell_type": "markdown",
   "metadata": {},
   "source": [
    "#### Link to the notebook\n",
    "https://github.com/edgeslab/cs418-project-team-asia/blob/master/Chicago%20Crime%20Analysis/Progress%20Report.ipynb"
   ]
  },
  {
   "cell_type": "markdown",
   "metadata": {},
   "source": [
    "### Introduction\n",
    "\n",
    "Project is about the crime analysis in Chicago area. Based on the different house prices of different neighborhoods and the crime occurrence in those areas, our goal is to show that that there is co-relation between the crime rates and house prices. So far we analyzed chicago crime data and median sale price of neighborhood in Chicago. House prices in neighborhoods of Chicago give us an idea about the economic condition of that neighborhood. Now, we are investigating to find out if there is any relation between average income and crime rate.\n"
   ]
  },
  {
   "cell_type": "markdown",
   "metadata": {},
   "source": [
    "### Any Changes\n",
    "\n",
    "First of all we collected chicago crime data. Then we tried to collect average income based upon chicago neighborhoods from 2012-2018; which we failed to collect. After that we discussed to collect house price of chicago neighborhood. We collected data from Redfin. Currently we are facing one problem which is to calculate crime rate. We need population of chicago neighborhood to calculate crime rate."
   ]
  },
  {
   "cell_type": "markdown",
   "metadata": {},
   "source": [
    "### Data Cleaning\n",
    "\n",
    "After getting the house price data, we removed those column where there was no value available. We also planned to work with price per square feet value. So we keep Price per square and sale price and filtered out the rest.  \n",
    "Since we have house price of chicago neighborhood from 2012-2018, we get rid of all the crimes which occurred before 2012."
   ]
  },
  {
   "cell_type": "markdown",
   "metadata": {},
   "source": [
    "### Exploratory data analysis:\n",
    "\n",
    "In our project we are using two datasets: Chicago Crime Data and House Prices Data.\n",
    "\n",
    "**Chicago Crime Data**:\n",
    "This dataset contains the criminal offences occurred in Chicago from 2001-2019. However, we are going to use crime data in 2012-2019. Each record in this dataset represents the details of a crime that happened in Chicago. The details include the time, type, description, location etc. of the crime. However, we are only going to use time and location of every crime. In this dataset, the neighborhood or the zipcode of the location of the crime is not given. Since, our goal is to analyze the crime happening in Chicago based on different areas and their relationship with the economy of those areas, we had to extract the neighborhoods from the location given in coordinates. We used the **ArcGIS** API to extract the neighborhoods. However, it is taking a huge amount of time to extract the neighborhoods with ArcGIS API. Although our whole dataset contains more than 2 million records, we are currently experimenting with half a million. We will use the whole dataset before our final submission.\n",
    "\n",
    "**House Prices Data from Redfin**:\n",
    "Redfin provides the data of home sale prices from 2012-2019. Each record represents a 90-day period. Each row includes median sale price, median price per square foot, median listed price, number of houses sold within that 90-day period in a particular neighborhood.\n",
    "We are going to relate our 2 datasets using their neighborhood.\n",
    "\n",
    "Some of the rows from out data sets are shown below:"
   ]
  },
  {
   "cell_type": "code",
   "execution_count": 3,
   "metadata": {},
   "outputs": [
    {
     "data": {
      "text/html": [
       "<div>\n",
       "<style scoped>\n",
       "    .dataframe tbody tr th:only-of-type {\n",
       "        vertical-align: middle;\n",
       "    }\n",
       "\n",
       "    .dataframe tbody tr th {\n",
       "        vertical-align: top;\n",
       "    }\n",
       "\n",
       "    .dataframe thead th {\n",
       "        text-align: right;\n",
       "    }\n",
       "</style>\n",
       "<table border=\"1\" class=\"dataframe\">\n",
       "  <thead>\n",
       "    <tr style=\"text-align: right;\">\n",
       "      <th></th>\n",
       "      <th>Region</th>\n",
       "      <th>Period Begin</th>\n",
       "      <th>Median Ppsf</th>\n",
       "      <th>Median Sale Price</th>\n",
       "    </tr>\n",
       "  </thead>\n",
       "  <tbody>\n",
       "    <tr>\n",
       "      <th>0</th>\n",
       "      <td>Chicago, IL - Albany Park</td>\n",
       "      <td>11/1/2011</td>\n",
       "      <td>78.400000</td>\n",
       "      <td>$154K</td>\n",
       "    </tr>\n",
       "    <tr>\n",
       "      <th>1</th>\n",
       "      <td>Chicago, IL - Albany Park</td>\n",
       "      <td>12/1/2011</td>\n",
       "      <td>76.800000</td>\n",
       "      <td>$122K</td>\n",
       "    </tr>\n",
       "    <tr>\n",
       "      <th>2</th>\n",
       "      <td>Chicago, IL - Albany Park</td>\n",
       "      <td>1/1/2012</td>\n",
       "      <td>77.929915</td>\n",
       "      <td>$129K</td>\n",
       "    </tr>\n",
       "    <tr>\n",
       "      <th>3</th>\n",
       "      <td>Chicago, IL - Albany Park</td>\n",
       "      <td>2/1/2012</td>\n",
       "      <td>80.898704</td>\n",
       "      <td>$131K</td>\n",
       "    </tr>\n",
       "    <tr>\n",
       "      <th>4</th>\n",
       "      <td>Chicago, IL - Albany Park</td>\n",
       "      <td>3/1/2012</td>\n",
       "      <td>98.397311</td>\n",
       "      <td>$141K</td>\n",
       "    </tr>\n",
       "  </tbody>\n",
       "</table>\n",
       "</div>"
      ],
      "text/plain": [
       "                      Region Period Begin  Median Ppsf Median Sale Price\n",
       "0  Chicago, IL - Albany Park    11/1/2011    78.400000             $154K\n",
       "1  Chicago, IL - Albany Park    12/1/2011    76.800000             $122K\n",
       "2  Chicago, IL - Albany Park     1/1/2012    77.929915             $129K\n",
       "3  Chicago, IL - Albany Park     2/1/2012    80.898704             $131K\n",
       "4  Chicago, IL - Albany Park     3/1/2012    98.397311             $141K"
      ]
     },
     "execution_count": 3,
     "metadata": {},
     "output_type": "execute_result"
    }
   ],
   "source": [
    "#178 neighborhoods in this data\n",
    "df1 = pd.read_csv(\"databyneighborhood.csv\")\n",
    "df1.head()"
   ]
  },
  {
   "cell_type": "code",
   "execution_count": 44,
   "metadata": {},
   "outputs": [
    {
     "data": {
      "text/html": [
       "<div>\n",
       "<style scoped>\n",
       "    .dataframe tbody tr th:only-of-type {\n",
       "        vertical-align: middle;\n",
       "    }\n",
       "\n",
       "    .dataframe tbody tr th {\n",
       "        vertical-align: top;\n",
       "    }\n",
       "\n",
       "    .dataframe thead th {\n",
       "        text-align: right;\n",
       "    }\n",
       "</style>\n",
       "<table border=\"1\" class=\"dataframe\">\n",
       "  <thead>\n",
       "    <tr style=\"text-align: right;\">\n",
       "      <th></th>\n",
       "      <th>Region</th>\n",
       "      <th>Period Begin</th>\n",
       "      <th>Median Ppsf</th>\n",
       "      <th>Median Sale Price</th>\n",
       "    </tr>\n",
       "  </thead>\n",
       "  <tbody>\n",
       "    <tr>\n",
       "      <th>15389</th>\n",
       "      <td>Chicago, IL - Wrightwood</td>\n",
       "      <td>10/1/2018</td>\n",
       "      <td>115.823817</td>\n",
       "      <td>$183K</td>\n",
       "    </tr>\n",
       "    <tr>\n",
       "      <th>15390</th>\n",
       "      <td>Chicago, IL - Wrightwood</td>\n",
       "      <td>11/1/2018</td>\n",
       "      <td>339.663980</td>\n",
       "      <td>$632K</td>\n",
       "    </tr>\n",
       "    <tr>\n",
       "      <th>15391</th>\n",
       "      <td>Chicago, IL - Wrightwood</td>\n",
       "      <td>11/1/2018</td>\n",
       "      <td>124.815317</td>\n",
       "      <td>$169K</td>\n",
       "    </tr>\n",
       "    <tr>\n",
       "      <th>15392</th>\n",
       "      <td>Chicago, IL - Wrightwood</td>\n",
       "      <td>12/1/2018</td>\n",
       "      <td>127.524222</td>\n",
       "      <td>$168K</td>\n",
       "    </tr>\n",
       "    <tr>\n",
       "      <th>15393</th>\n",
       "      <td>Chicago, IL - Wrightwood</td>\n",
       "      <td>12/1/2018</td>\n",
       "      <td>338.888889</td>\n",
       "      <td>$638K</td>\n",
       "    </tr>\n",
       "  </tbody>\n",
       "</table>\n",
       "</div>"
      ],
      "text/plain": [
       "                         Region Period Begin  Median Ppsf Median Sale Price\n",
       "15389  Chicago, IL - Wrightwood    10/1/2018   115.823817             $183K\n",
       "15390  Chicago, IL - Wrightwood    11/1/2018   339.663980             $632K\n",
       "15391  Chicago, IL - Wrightwood    11/1/2018   124.815317             $169K\n",
       "15392  Chicago, IL - Wrightwood    12/1/2018   127.524222             $168K\n",
       "15393  Chicago, IL - Wrightwood    12/1/2018   338.888889             $638K"
      ]
     },
     "execution_count": 44,
     "metadata": {},
     "output_type": "execute_result"
    }
   ],
   "source": [
    "df1.tail()"
   ]
  },
  {
   "cell_type": "code",
   "execution_count": 45,
   "metadata": {},
   "outputs": [
    {
     "name": "stdout",
     "output_type": "stream",
     "text": [
      "101\n"
     ]
    },
    {
     "data": {
      "text/html": [
       "<div>\n",
       "<style scoped>\n",
       "    .dataframe tbody tr th:only-of-type {\n",
       "        vertical-align: middle;\n",
       "    }\n",
       "\n",
       "    .dataframe tbody tr th {\n",
       "        vertical-align: top;\n",
       "    }\n",
       "\n",
       "    .dataframe thead th {\n",
       "        text-align: right;\n",
       "    }\n",
       "</style>\n",
       "<table border=\"1\" class=\"dataframe\">\n",
       "  <thead>\n",
       "    <tr style=\"text-align: right;\">\n",
       "      <th></th>\n",
       "      <th>Unnamed: 0</th>\n",
       "      <th>Unnamed: 0.1</th>\n",
       "      <th>ID</th>\n",
       "      <th>Case Number</th>\n",
       "      <th>Date</th>\n",
       "      <th>Block</th>\n",
       "      <th>IUCR</th>\n",
       "      <th>Primary Type</th>\n",
       "      <th>Description</th>\n",
       "      <th>Location Description</th>\n",
       "      <th>...</th>\n",
       "      <th>X Coordinate</th>\n",
       "      <th>Y Coordinate</th>\n",
       "      <th>Year</th>\n",
       "      <th>Updated On</th>\n",
       "      <th>Latitude</th>\n",
       "      <th>Longitude</th>\n",
       "      <th>Location</th>\n",
       "      <th>Neighborhood</th>\n",
       "      <th>Zipcode</th>\n",
       "      <th>Address</th>\n",
       "    </tr>\n",
       "  </thead>\n",
       "  <tbody>\n",
       "    <tr>\n",
       "      <th>0</th>\n",
       "      <td>0</td>\n",
       "      <td>0</td>\n",
       "      <td>10000092</td>\n",
       "      <td>HY189866</td>\n",
       "      <td>03/18/2015 07:44:00 PM</td>\n",
       "      <td>047XX W OHIO ST</td>\n",
       "      <td>041A</td>\n",
       "      <td>BATTERY</td>\n",
       "      <td>AGGRAVATED: HANDGUN</td>\n",
       "      <td>STREET</td>\n",
       "      <td>...</td>\n",
       "      <td>1144606.0</td>\n",
       "      <td>1903566.0</td>\n",
       "      <td>2015</td>\n",
       "      <td>02/10/2018 03:50:01 PM</td>\n",
       "      <td>41.891399</td>\n",
       "      <td>-87.744385</td>\n",
       "      <td>(41.891398861, -87.744384567)</td>\n",
       "      <td>Austin</td>\n",
       "      <td>60644.0</td>\n",
       "      <td>{'address': {'Match_addr': '4700-4728 W Ohio S...</td>\n",
       "    </tr>\n",
       "    <tr>\n",
       "      <th>1</th>\n",
       "      <td>1</td>\n",
       "      <td>1</td>\n",
       "      <td>10000094</td>\n",
       "      <td>HY190059</td>\n",
       "      <td>03/18/2015 11:00:00 PM</td>\n",
       "      <td>066XX S MARSHFIELD AVE</td>\n",
       "      <td>4625</td>\n",
       "      <td>OTHER OFFENSE</td>\n",
       "      <td>PAROLE VIOLATION</td>\n",
       "      <td>STREET</td>\n",
       "      <td>...</td>\n",
       "      <td>1166468.0</td>\n",
       "      <td>1860715.0</td>\n",
       "      <td>2015</td>\n",
       "      <td>02/10/2018 03:50:01 PM</td>\n",
       "      <td>41.773372</td>\n",
       "      <td>-87.665319</td>\n",
       "      <td>(41.773371528, -87.665319468)</td>\n",
       "      <td>West Englewood</td>\n",
       "      <td>60636.0</td>\n",
       "      <td>{'address': {'Match_addr': '6601-6699 S Marshf...</td>\n",
       "    </tr>\n",
       "    <tr>\n",
       "      <th>2</th>\n",
       "      <td>2</td>\n",
       "      <td>2</td>\n",
       "      <td>10000095</td>\n",
       "      <td>HY190052</td>\n",
       "      <td>03/18/2015 10:45:00 PM</td>\n",
       "      <td>044XX S LAKE PARK AVE</td>\n",
       "      <td>0486</td>\n",
       "      <td>BATTERY</td>\n",
       "      <td>DOMESTIC BATTERY SIMPLE</td>\n",
       "      <td>APARTMENT</td>\n",
       "      <td>...</td>\n",
       "      <td>1185075.0</td>\n",
       "      <td>1875622.0</td>\n",
       "      <td>2015</td>\n",
       "      <td>02/10/2018 03:50:01 PM</td>\n",
       "      <td>41.813861</td>\n",
       "      <td>-87.596643</td>\n",
       "      <td>(41.81386068, -87.596642837)</td>\n",
       "      <td>Kenwood</td>\n",
       "      <td>60653.0</td>\n",
       "      <td>{'address': {'Match_addr': '4431-4477 S Lake P...</td>\n",
       "    </tr>\n",
       "    <tr>\n",
       "      <th>3</th>\n",
       "      <td>3</td>\n",
       "      <td>3</td>\n",
       "      <td>10000096</td>\n",
       "      <td>HY190054</td>\n",
       "      <td>03/18/2015 10:30:00 PM</td>\n",
       "      <td>051XX S MICHIGAN AVE</td>\n",
       "      <td>0460</td>\n",
       "      <td>BATTERY</td>\n",
       "      <td>SIMPLE</td>\n",
       "      <td>APARTMENT</td>\n",
       "      <td>...</td>\n",
       "      <td>1178033.0</td>\n",
       "      <td>1870804.0</td>\n",
       "      <td>2015</td>\n",
       "      <td>02/10/2018 03:50:01 PM</td>\n",
       "      <td>41.800802</td>\n",
       "      <td>-87.622619</td>\n",
       "      <td>(41.800802415, -87.622619343)</td>\n",
       "      <td>Washington Park</td>\n",
       "      <td>60615.0</td>\n",
       "      <td>{'address': {'Match_addr': '5100-5198 S Michig...</td>\n",
       "    </tr>\n",
       "    <tr>\n",
       "      <th>4</th>\n",
       "      <td>4</td>\n",
       "      <td>4</td>\n",
       "      <td>10000097</td>\n",
       "      <td>HY189976</td>\n",
       "      <td>03/18/2015 09:00:00 PM</td>\n",
       "      <td>047XX W ADAMS ST</td>\n",
       "      <td>031A</td>\n",
       "      <td>ROBBERY</td>\n",
       "      <td>ARMED: HANDGUN</td>\n",
       "      <td>SIDEWALK</td>\n",
       "      <td>...</td>\n",
       "      <td>1144920.0</td>\n",
       "      <td>1898709.0</td>\n",
       "      <td>2015</td>\n",
       "      <td>02/10/2018 03:50:01 PM</td>\n",
       "      <td>41.878065</td>\n",
       "      <td>-87.743354</td>\n",
       "      <td>(41.878064761, -87.743354013)</td>\n",
       "      <td>Austin</td>\n",
       "      <td>60644.0</td>\n",
       "      <td>{'address': {'Match_addr': '4700-4798 W Adams ...</td>\n",
       "    </tr>\n",
       "  </tbody>\n",
       "</table>\n",
       "<p>5 rows × 27 columns</p>\n",
       "</div>"
      ],
      "text/plain": [
       "   Unnamed: 0  Unnamed: 0.1        ID Case Number                    Date  \\\n",
       "0           0             0  10000092    HY189866  03/18/2015 07:44:00 PM   \n",
       "1           1             1  10000094    HY190059  03/18/2015 11:00:00 PM   \n",
       "2           2             2  10000095    HY190052  03/18/2015 10:45:00 PM   \n",
       "3           3             3  10000096    HY190054  03/18/2015 10:30:00 PM   \n",
       "4           4             4  10000097    HY189976  03/18/2015 09:00:00 PM   \n",
       "\n",
       "                    Block  IUCR   Primary Type              Description  \\\n",
       "0         047XX W OHIO ST  041A        BATTERY      AGGRAVATED: HANDGUN   \n",
       "1  066XX S MARSHFIELD AVE  4625  OTHER OFFENSE         PAROLE VIOLATION   \n",
       "2   044XX S LAKE PARK AVE  0486        BATTERY  DOMESTIC BATTERY SIMPLE   \n",
       "3    051XX S MICHIGAN AVE  0460        BATTERY                   SIMPLE   \n",
       "4        047XX W ADAMS ST  031A        ROBBERY           ARMED: HANDGUN   \n",
       "\n",
       "  Location Description                        ...                          \\\n",
       "0               STREET                        ...                           \n",
       "1               STREET                        ...                           \n",
       "2            APARTMENT                        ...                           \n",
       "3            APARTMENT                        ...                           \n",
       "4             SIDEWALK                        ...                           \n",
       "\n",
       "   X Coordinate  Y Coordinate  Year              Updated On   Latitude  \\\n",
       "0     1144606.0     1903566.0  2015  02/10/2018 03:50:01 PM  41.891399   \n",
       "1     1166468.0     1860715.0  2015  02/10/2018 03:50:01 PM  41.773372   \n",
       "2     1185075.0     1875622.0  2015  02/10/2018 03:50:01 PM  41.813861   \n",
       "3     1178033.0     1870804.0  2015  02/10/2018 03:50:01 PM  41.800802   \n",
       "4     1144920.0     1898709.0  2015  02/10/2018 03:50:01 PM  41.878065   \n",
       "\n",
       "   Longitude                       Location     Neighborhood  Zipcode  \\\n",
       "0 -87.744385  (41.891398861, -87.744384567)           Austin  60644.0   \n",
       "1 -87.665319  (41.773371528, -87.665319468)   West Englewood  60636.0   \n",
       "2 -87.596643   (41.81386068, -87.596642837)          Kenwood  60653.0   \n",
       "3 -87.622619  (41.800802415, -87.622619343)  Washington Park  60615.0   \n",
       "4 -87.743354  (41.878064761, -87.743354013)           Austin  60644.0   \n",
       "\n",
       "                                             Address  \n",
       "0  {'address': {'Match_addr': '4700-4728 W Ohio S...  \n",
       "1  {'address': {'Match_addr': '6601-6699 S Marshf...  \n",
       "2  {'address': {'Match_addr': '4431-4477 S Lake P...  \n",
       "3  {'address': {'Match_addr': '5100-5198 S Michig...  \n",
       "4  {'address': {'Match_addr': '4700-4798 W Adams ...  \n",
       "\n",
       "[5 rows x 27 columns]"
      ]
     },
     "execution_count": 45,
     "metadata": {},
     "output_type": "execute_result"
    }
   ],
   "source": [
    "df2 = pd.read_csv(\"0To500010.csv\")\n",
    "groupByNeighborhood = df2.groupby('Neighborhood')\n",
    "selectedNeighborhood = groupByNeighborhood.get_group('Austin')\n",
    "print(len(groupByNeighborhood))\n",
    "df2.head()"
   ]
  },
  {
   "cell_type": "markdown",
   "metadata": {},
   "source": [
    "### Hypothesis Testing\n",
    "One of our hypotheses is that house price is correlated with the number of crime in a region. We have aggregated the price(per square feet) for each region by each year from 2012 to 2018. Then we plot this information in a lineplot to see the trends of the price change from year to year. For the crime data, we aggregated the number of crime by region and year. Then we plot that data to see the trend of number of crime changed for each region. As we have discussed before, we do not have all the data necessary for crime plotting so our plot of crime data is somewhat incomplete. The reason we thing this hypothesis is important is that, it will show how crime rate is changing throughout the Chicago city with the changing economic landscape. The functions and the plotting for some example region are given here."
   ]
  },
  {
   "cell_type": "code",
   "execution_count": 24,
   "metadata": {},
   "outputs": [],
   "source": [
    "def fun(df, neighborhood, year):\n",
    "    cnt = 0.0\n",
    "    total = 0\n",
    "\n",
    "    for e,f,g in zip(df['Region'],df['Period Begin'],df['Median Ppsf']):\n",
    "        date = f.split(\"/\")\n",
    "        try:\n",
    "            if int(date[2]) == year and e == neighborhood:\n",
    "                cnt = cnt + 1\n",
    "                total = total + float(g)\n",
    "        except:\n",
    "            pass\n",
    "\n",
    "    return total/cnt"
   ]
  },
  {
   "cell_type": "code",
   "execution_count": 68,
   "metadata": {},
   "outputs": [],
   "source": [
    "def plot(df, neighborhood):\n",
    "    x = np.zeros(7)\n",
    "    \n",
    "    y=[2012,2013,2014,2015,2016,2017,2018]\n",
    "    \n",
    "    for i in y:\n",
    "        x[i-2012]=fun(df, neighborhood,i)\n",
    "    \n",
    "    fig = plt.figure()\n",
    "    plt.plot(y, x)\n",
    "    fig.suptitle('Housr price in ppsf for '+neighborhood+' by each year')\n",
    "    plt.xlabel('year')\n",
    "    plt.ylabel('price per square feet')"
   ]
  },
  {
   "cell_type": "code",
   "execution_count": 69,
   "metadata": {
    "scrolled": true
   },
   "outputs": [
    {
     "data": {
      "image/png": "[encoded data removed]",
      "text/plain": [
       "<Figure size 432x288 with 1 Axes>"
      ]
     },
     "metadata": {
      "needs_background": "light"
     },
     "output_type": "display_data"
    }
   ],
   "source": [
    "plot(df1,'Chicago, IL - Albany Park')"
   ]
  },
  {
   "cell_type": "code",
   "execution_count": 70,
   "metadata": {},
   "outputs": [
    {
     "data": {
      "image/png": "[encoded data removed]",
      "text/plain": [
       "<Figure size 432x288 with 1 Axes>"
      ]
     },
     "metadata": {
      "needs_background": "light"
     },
     "output_type": "display_data"
    }
   ],
   "source": [
    "newlist=plot(df1,'Chicago, IL - Austin')"
   ]
  },
  {
   "cell_type": "code",
   "execution_count": 51,
   "metadata": {},
   "outputs": [
    {
     "name": "stderr",
     "output_type": "stream",
     "text": [
      "C:\\Users\\Raquib\\Anaconda3\\lib\\site-packages\\ipykernel_launcher.py:3: SettingWithCopyWarning: \n",
      "A value is trying to be set on a copy of a slice from a DataFrame.\n",
      "Try using .loc[row_indexer,col_indexer] = value instead\n",
      "\n",
      "See the caveats in the documentation: http://pandas.pydata.org/pandas-docs/stable/indexing.html#indexing-view-versus-copy\n",
      "  This is separate from the ipykernel package so we can avoid doing imports until\n",
      "C:\\Users\\Raquib\\Anaconda3\\lib\\site-packages\\ipykernel_launcher.py:4: SettingWithCopyWarning: \n",
      "A value is trying to be set on a copy of a slice from a DataFrame.\n",
      "Try using .loc[row_indexer,col_indexer] = value instead\n",
      "\n",
      "See the caveats in the documentation: http://pandas.pydata.org/pandas-docs/stable/indexing.html#indexing-view-versus-copy\n",
      "  after removing the cwd from sys.path.\n"
     ]
    },
    {
     "data": {
      "image/png": "[encoded data removed]",
      "text/plain": [
       "<Figure size 432x288 with 1 Axes>"
      ]
     },
     "metadata": {
      "needs_background": "light"
     },
     "output_type": "display_data"
    },
    {
     "data": {
      "image/png": "[encoded data removed]",
      "text/plain": [
       "<Figure size 432x288 with 1 Axes>"
      ]
     },
     "metadata": {
      "needs_background": "light"
     },
     "output_type": "display_data"
    }
   ],
   "source": [
    "def plotCrimeNumbers(neighborhood):\n",
    "    neighborhoodData = groupByNeighborhood.get_group(neighborhood)\n",
    "    neighborhoodData['Date'] = pd.to_datetime(neighborhoodData['Date'])\n",
    "    neighborhoodData['Year'] = pd.DatetimeIndex(neighborhoodData['Date']).year\n",
    "    groupedByYear = neighborhoodData.groupby('Year')\n",
    "    DataToPlot = pd.DataFrame(data = groupedByYear.size().reset_index(name='Counts'))\n",
    "    #DataToPlot.columns = ['Year','Count']\n",
    "    #print(DataToPlot['Count'])\n",
    "    sns.lineplot(x=\"Year\", y=\"Counts\", data=DataToPlot)\n",
    "    ax = plt.gca()\n",
    "    ax.set_xticks(np.arange(DataToPlot['Year'][0], DataToPlot['Year'][DataToPlot['Year'].count()-1]+1 , 1))\n",
    "    ax.set(title='Number of Crime in '+neighborhood+' by each year')\n",
    "    plt.show()\n",
    "\n",
    "plotCrimeNumbers('Albany Park')\n",
    "plotCrimeNumbers('Austin')"
   ]
  },
  {
   "cell_type": "markdown",
   "metadata": {},
   "source": [
    "### Prediction of House Prices\n",
    "We have tried creating a regression from the house price data. We feed the price values of a region to find out the co-efficients of the regression line. We predicted the prices for future with the resulting model. Here goes the functions of this."
   ]
  },
  {
   "cell_type": "code",
   "execution_count": 71,
   "metadata": {},
   "outputs": [],
   "source": [
    "groupbydata=df1.groupby('Region')\n",
    "selectedone = groupbydata.get_group('Chicago, IL - Albany Park')"
   ]
  },
  {
   "cell_type": "code",
   "execution_count": 72,
   "metadata": {},
   "outputs": [],
   "source": [
    "x = np.arange(len(selectedone))\n",
    "y = selectedone['Median Ppsf']"
   ]
  },
  {
   "cell_type": "code",
   "execution_count": 63,
   "metadata": {},
   "outputs": [],
   "source": [
    "regr = linear_model.LinearRegression()\n",
    "\n",
    "# Train the model using the training sets\n",
    "regr.fit(x[:,np.newaxis], y[:,np.newaxis])\n",
    "\n",
    "x_test = np.arange(90,100)\n",
    "\n",
    "# Make predictions using the testing set\n",
    "y_pred = regr.predict(x_test[:,np.newaxis])"
   ]
  },
  {
   "cell_type": "code",
   "execution_count": 64,
   "metadata": {},
   "outputs": [
    {
     "name": "stdout",
     "output_type": "stream",
     "text": [
      "[[205.28740421]\n",
      " [206.52542459]\n",
      " [207.76344497]\n",
      " [209.00146535]\n",
      " [210.23948573]\n",
      " [211.47750611]\n",
      " [212.71552649]\n",
      " [213.95354687]\n",
      " [215.19156725]\n",
      " [216.42958763]]\n"
     ]
    }
   ],
   "source": [
    "print(y_pred)"
   ]
  },
  {
   "cell_type": "markdown",
   "metadata": {},
   "source": [
    "### Reflection\n",
    "\n",
    "Finding correct data was hard. However the hardest part was to extract neighborhood data from the crime reports. We have tried multiple APIs to extract that information. Google Maps API was our first choice but it was too costly. Later we had to resort to **ArcGIS** to find the neighborhood. \n",
    "Initially, the data we were gathering had a lot of redundant data and we were looking for the ways to make sense of that data and which particular features should be selected in order to use it toward our analysis. \n",
    "It’s hard to show any concrete result right now. Because we are gathering more data of population based on chicago neighborhood.\n",
    "Current biggest problem is to find population of chicago neighborhood from 2012 to 2018.\n",
    "We are on right track. We need some data of population of chicago neighborhood, after that we can calculate crime rate. Finally we will find if there is any relationship of the changing crime rate and house price.\n",
    "Given our initial exploration of the data, it is worth proceeding with project. \n"
   ]
  },
  {
   "cell_type": "markdown",
   "metadata": {},
   "source": [
    "### Next Step\n",
    "\n",
    "-  To finish extracting the neighbourhoods in the crime dataset using ArcGIS\n",
    "-  Quantifying crime rates \n",
    "-  Indexing neighbourhoods based on crime rate\n",
    "-  Indexing neighbourhoods based on house prices\n",
    "-  Find correlation between the change in crime rate in different neighbourhoods and the change in house prices in respective neighbourhoods over the years.\n",
    "-  Make predictions of crime rate and house prices.\n"
   ]
  },
  {
   "cell_type": "code",
   "execution_count": null,
   "metadata": {},
   "outputs": [],
   "source": []
  }
 ],
 "metadata": {
  "kernelspec": {
   "display_name": "Python 3",
   "language": "python",
   "name": "python3"
  },
  "language_info": {
   "codemirror_mode": {
    "name": "ipython",
    "version": 3
   },
   "file_extension": ".py",
   "mimetype": "text/x-python",
   "name": "python",
   "nbconvert_exporter": "python",
   "pygments_lexer": "ipython3",
   "version": "3.7.1"
  }
 },
 "nbformat": 4,
 "nbformat_minor": 2
}
