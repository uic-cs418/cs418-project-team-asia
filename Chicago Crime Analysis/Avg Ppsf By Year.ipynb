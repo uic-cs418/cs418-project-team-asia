{
 "cells": [
  {
   "cell_type": "code",
   "execution_count": 3,
   "metadata": {},
   "outputs": [],
   "source": [
    "import datetime\n",
    "import pandas as pd\n",
    "import numpy as np\n",
    "import matplotlib.pyplot as plt"
   ]
  },
  {
   "cell_type": "code",
   "execution_count": 4,
   "metadata": {},
   "outputs": [],
   "source": [
    "def fun(neighborhood, year):\n",
    "    df = pd.read_csv(\"databyneighborhood.csv\", header = None)\n",
    "    cnt = 0.0\n",
    "    total = 0\n",
    "\n",
    "    for e,f,g in zip(df[0],df[1],df[2]):\n",
    "        date = f.split(\"/\")\n",
    "        try:\n",
    "            if int(date[2]) == year and e == neighborhood:\n",
    "                cnt = cnt + 1\n",
    "                total = total + float(g)\n",
    "        except:\n",
    "            pass\n",
    "\n",
    "    print(total/cnt)"
   ]
  },
  {
   "cell_type": "code",
   "execution_count": 5,
   "metadata": {},
   "outputs": [
    {
     "name": "stdout",
     "output_type": "stream",
     "text": [
      "93.06207041666666\n",
      "116.9033972075\n",
      "139.91441527499998\n",
      "161.25170846666666\n",
      "166.746980125\n",
      "180.23728238333334\n",
      "178.7344387416667\n"
     ]
    }
   ],
   "source": [
    "i = 2012\n",
    "while i < 2019:\n",
    "    fun('Chicago, IL - Albany Park', i)\n",
    "    i = i + 1"
   ]
  },
  {
   "cell_type": "code",
   "execution_count": null,
   "metadata": {},
   "outputs": [],
   "source": []
  }
 ],
 "metadata": {
  "kernelspec": {
   "display_name": "Python 3",
   "language": "python",
   "name": "python3"
  },
  "language_info": {
   "codemirror_mode": {
    "name": "ipython",
    "version": 3
   },
   "file_extension": ".py",
   "mimetype": "text/x-python",
   "name": "python",
   "nbconvert_exporter": "python",
   "pygments_lexer": "ipython3",
   "version": "3.7.1"
  }
 },
 "nbformat": 4,
 "nbformat_minor": 2
}
