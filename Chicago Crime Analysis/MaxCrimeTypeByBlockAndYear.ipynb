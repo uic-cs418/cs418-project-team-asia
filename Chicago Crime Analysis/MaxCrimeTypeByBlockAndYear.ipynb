{
 "cells": [
  {
   "cell_type": "code",
   "execution_count": 1,
   "metadata": {},
   "outputs": [],
   "source": [
    "from google.cloud import storage\n",
    "import seaborn as sns\n",
    "import matplotlib.pyplot as plt\n",
    "import nltk\n",
    "from nltk.corpus import stopwords\n",
    "from sklearn.feature_extraction.text import TfidfVectorizer\n",
    "from sklearn.decomposition import PCA\n",
    "import pandas as pd\n",
    "import numpy as np\n",
    "import os\n",
    "\n",
    "%load_ext google.cloud.bigquery"
   ]
  },
  {
   "cell_type": "code",
   "execution_count": 2,
   "metadata": {},
   "outputs": [
    {
     "name": "stderr",
     "output_type": "stream",
     "text": [
      "[nltk_data] Downloading package stopwords to\n",
      "[nltk_data]     C:\\Users\\Saurav\\AppData\\Roaming\\nltk_data...\n",
      "[nltk_data]   Package stopwords is already up-to-date!\n",
      "[nltk_data] Downloading package punkt to\n",
      "[nltk_data]     C:\\Users\\Saurav\\AppData\\Roaming\\nltk_data...\n",
      "[nltk_data]   Package punkt is already up-to-date!\n",
      "[nltk_data] Downloading package averaged_perceptron_tagger to\n",
      "[nltk_data]     C:\\Users\\Saurav\\AppData\\Roaming\\nltk_data...\n",
      "[nltk_data]   Package averaged_perceptron_tagger is already up-to-\n",
      "[nltk_data]       date!\n"
     ]
    },
    {
     "data": {
      "text/plain": [
       "True"
      ]
     },
     "execution_count": 2,
     "metadata": {},
     "output_type": "execute_result"
    }
   ],
   "source": [
    "nltk.download('stopwords')\n",
    "nltk.download('punkt')\n",
    "nltk.download('averaged_perceptron_tagger')"
   ]
  },
  {
   "cell_type": "code",
   "execution_count": 3,
   "metadata": {},
   "outputs": [],
   "source": [
    "os.environ['GOOGLE_APPLICATION_CREDENTIALS'] = 'homework4-key.json'"
   ]
  },
  {
   "cell_type": "code",
   "execution_count": 4,
   "metadata": {},
   "outputs": [
    {
     "name": "stdout",
     "output_type": "stream",
     "text": [
      "[<Bucket: model-bucket-cs418>]\n"
     ]
    }
   ],
   "source": [
    "def list_buckets():\n",
    "    storage_client = storage.Client()\n",
    "    # Make an authenticated API request\n",
    "    buckets = list(storage_client.list_buckets())\n",
    "    print(buckets)\n",
    "\n",
    "    \n",
    "list_buckets()"
   ]
  },
  {
   "cell_type": "code",
   "execution_count": 8,
   "metadata": {},
   "outputs": [],
   "source": [
    "%%bigquery df\n",
    "\n",
    "#standardSQL\n",
    "-- Write your query below this line\n",
    "\n",
    "SELECT block, primary_type, COUNT(*) as count FROM `bigquery-public-data.chicago_crime.crime`\n",
    "WHERE primary_type != 'OTHER OFFENSE' \n",
    "AND primary_type NOT LIKE 'NON%'\n",
    "AND date < '2019-01-01'\n",
    "GROUP BY primary_type, block\n",
    "ORDER BY block;"
   ]
  },
  {
   "cell_type": "code",
   "execution_count": 10,
   "metadata": {},
   "outputs": [
    {
     "data": {
      "text/html": [
       "<div>\n",
       "<style scoped>\n",
       "    .dataframe tbody tr th:only-of-type {\n",
       "        vertical-align: middle;\n",
       "    }\n",
       "\n",
       "    .dataframe tbody tr th {\n",
       "        vertical-align: top;\n",
       "    }\n",
       "\n",
       "    .dataframe thead th {\n",
       "        text-align: right;\n",
       "    }\n",
       "</style>\n",
       "<table border=\"1\" class=\"dataframe\">\n",
       "  <thead>\n",
       "    <tr style=\"text-align: right;\">\n",
       "      <th></th>\n",
       "      <th>block</th>\n",
       "      <th>primary_type</th>\n",
       "      <th>count</th>\n",
       "    </tr>\n",
       "  </thead>\n",
       "  <tbody>\n",
       "    <tr>\n",
       "      <th>1</th>\n",
       "      <td>0000X E 100 PL</td>\n",
       "      <td>NARCOTICS</td>\n",
       "      <td>10</td>\n",
       "    </tr>\n",
       "    <tr>\n",
       "      <th>1</th>\n",
       "      <td>013XX S BLUE ISLAND AVE</td>\n",
       "      <td>DECEPTIVE PRACTICE</td>\n",
       "      <td>12</td>\n",
       "    </tr>\n",
       "    <tr>\n",
       "      <th>1</th>\n",
       "      <td>027XX N HOYNE AVE</td>\n",
       "      <td>CRIM SEXUAL ASSAULT</td>\n",
       "      <td>6</td>\n",
       "    </tr>\n",
       "    <tr>\n",
       "      <th>1</th>\n",
       "      <td>044XX S EMERALD AVE</td>\n",
       "      <td>THEFT</td>\n",
       "      <td>11</td>\n",
       "    </tr>\n",
       "    <tr>\n",
       "      <th>1</th>\n",
       "      <td>063XX S KNOX AVE</td>\n",
       "      <td>BURGLARY</td>\n",
       "      <td>11</td>\n",
       "    </tr>\n",
       "  </tbody>\n",
       "</table>\n",
       "</div>"
      ],
      "text/plain": [
       "                     block         primary_type  count\n",
       "1           0000X E 100 PL            NARCOTICS     10\n",
       "1  013XX S BLUE ISLAND AVE   DECEPTIVE PRACTICE     12\n",
       "1        027XX N HOYNE AVE  CRIM SEXUAL ASSAULT      6\n",
       "1      044XX S EMERALD AVE                THEFT     11\n",
       "1         063XX S KNOX AVE             BURGLARY     11"
      ]
     },
     "execution_count": 10,
     "metadata": {},
     "output_type": "execute_result"
    }
   ],
   "source": [
    "df = df.loc[df.groupby('block')['count'].idxmax()]\n",
    "df.head()\n",
    "#len(df)"
   ]
  },
  {
   "cell_type": "code",
   "execution_count": 11,
   "metadata": {},
   "outputs": [],
   "source": [
    "%%bigquery df\n",
    "\n",
    "#standardSQL\n",
    "-- Write your query below this line\n",
    "\n",
    "SELECT year, primary_type, COUNT(*) as count FROM `bigquery-public-data.chicago_crime.crime`\n",
    "WHERE primary_type != 'OTHER OFFENSE' \n",
    "AND primary_type NOT LIKE 'NON%'\n",
    "AND date < '2019-01-01'\n",
    "GROUP BY primary_type, year\n",
    "ORDER BY year;"
   ]
  },
  {
   "cell_type": "code",
   "execution_count": 13,
   "metadata": {},
   "outputs": [
    {
     "data": {
      "text/html": [
       "<div>\n",
       "<style scoped>\n",
       "    .dataframe tbody tr th:only-of-type {\n",
       "        vertical-align: middle;\n",
       "    }\n",
       "\n",
       "    .dataframe tbody tr th {\n",
       "        vertical-align: top;\n",
       "    }\n",
       "\n",
       "    .dataframe thead th {\n",
       "        text-align: right;\n",
       "    }\n",
       "</style>\n",
       "<table border=\"1\" class=\"dataframe\">\n",
       "  <thead>\n",
       "    <tr style=\"text-align: right;\">\n",
       "      <th></th>\n",
       "      <th>year</th>\n",
       "      <th>primary_type</th>\n",
       "      <th>count</th>\n",
       "    </tr>\n",
       "  </thead>\n",
       "  <tbody>\n",
       "    <tr>\n",
       "      <th>8</th>\n",
       "      <td>2001</td>\n",
       "      <td>THEFT</td>\n",
       "      <td>99264</td>\n",
       "    </tr>\n",
       "    <tr>\n",
       "      <th>55</th>\n",
       "      <td>2002</td>\n",
       "      <td>THEFT</td>\n",
       "      <td>98327</td>\n",
       "    </tr>\n",
       "    <tr>\n",
       "      <th>65</th>\n",
       "      <td>2003</td>\n",
       "      <td>THEFT</td>\n",
       "      <td>98875</td>\n",
       "    </tr>\n",
       "    <tr>\n",
       "      <th>96</th>\n",
       "      <td>2004</td>\n",
       "      <td>THEFT</td>\n",
       "      <td>95463</td>\n",
       "    </tr>\n",
       "    <tr>\n",
       "      <th>131</th>\n",
       "      <td>2005</td>\n",
       "      <td>THEFT</td>\n",
       "      <td>85685</td>\n",
       "    </tr>\n",
       "    <tr>\n",
       "      <th>143</th>\n",
       "      <td>2006</td>\n",
       "      <td>THEFT</td>\n",
       "      <td>86240</td>\n",
       "    </tr>\n",
       "    <tr>\n",
       "      <th>187</th>\n",
       "      <td>2007</td>\n",
       "      <td>THEFT</td>\n",
       "      <td>85156</td>\n",
       "    </tr>\n",
       "    <tr>\n",
       "      <th>220</th>\n",
       "      <td>2008</td>\n",
       "      <td>THEFT</td>\n",
       "      <td>88433</td>\n",
       "    </tr>\n",
       "    <tr>\n",
       "      <th>226</th>\n",
       "      <td>2009</td>\n",
       "      <td>THEFT</td>\n",
       "      <td>80973</td>\n",
       "    </tr>\n",
       "    <tr>\n",
       "      <th>251</th>\n",
       "      <td>2010</td>\n",
       "      <td>THEFT</td>\n",
       "      <td>76756</td>\n",
       "    </tr>\n",
       "    <tr>\n",
       "      <th>283</th>\n",
       "      <td>2011</td>\n",
       "      <td>THEFT</td>\n",
       "      <td>75149</td>\n",
       "    </tr>\n",
       "    <tr>\n",
       "      <th>329</th>\n",
       "      <td>2012</td>\n",
       "      <td>THEFT</td>\n",
       "      <td>75460</td>\n",
       "    </tr>\n",
       "    <tr>\n",
       "      <th>347</th>\n",
       "      <td>2013</td>\n",
       "      <td>THEFT</td>\n",
       "      <td>71530</td>\n",
       "    </tr>\n",
       "    <tr>\n",
       "      <th>371</th>\n",
       "      <td>2014</td>\n",
       "      <td>THEFT</td>\n",
       "      <td>61563</td>\n",
       "    </tr>\n",
       "    <tr>\n",
       "      <th>409</th>\n",
       "      <td>2015</td>\n",
       "      <td>THEFT</td>\n",
       "      <td>57337</td>\n",
       "    </tr>\n",
       "    <tr>\n",
       "      <th>438</th>\n",
       "      <td>2016</td>\n",
       "      <td>THEFT</td>\n",
       "      <td>61604</td>\n",
       "    </tr>\n",
       "    <tr>\n",
       "      <th>469</th>\n",
       "      <td>2017</td>\n",
       "      <td>THEFT</td>\n",
       "      <td>64346</td>\n",
       "    </tr>\n",
       "    <tr>\n",
       "      <th>493</th>\n",
       "      <td>2018</td>\n",
       "      <td>THEFT</td>\n",
       "      <td>65103</td>\n",
       "    </tr>\n",
       "  </tbody>\n",
       "</table>\n",
       "</div>"
      ],
      "text/plain": [
       "     year primary_type  count\n",
       "8    2001        THEFT  99264\n",
       "55   2002        THEFT  98327\n",
       "65   2003        THEFT  98875\n",
       "96   2004        THEFT  95463\n",
       "131  2005        THEFT  85685\n",
       "143  2006        THEFT  86240\n",
       "187  2007        THEFT  85156\n",
       "220  2008        THEFT  88433\n",
       "226  2009        THEFT  80973\n",
       "251  2010        THEFT  76756\n",
       "283  2011        THEFT  75149\n",
       "329  2012        THEFT  75460\n",
       "347  2013        THEFT  71530\n",
       "371  2014        THEFT  61563\n",
       "409  2015        THEFT  57337\n",
       "438  2016        THEFT  61604\n",
       "469  2017        THEFT  64346\n",
       "493  2018        THEFT  65103"
      ]
     },
     "execution_count": 13,
     "metadata": {},
     "output_type": "execute_result"
    }
   ],
   "source": [
    "df = df.loc[df.groupby('year')['count'].idxmax()]\n",
    "df"
   ]
  },
  {
   "cell_type": "code",
   "execution_count": null,
   "metadata": {},
   "outputs": [],
   "source": []
  }
 ],
 "metadata": {
  "kernelspec": {
   "display_name": "Python 3",
   "language": "python",
   "name": "python3"
  },
  "language_info": {
   "codemirror_mode": {
    "name": "ipython",
    "version": 3
   },
   "file_extension": ".py",
   "mimetype": "text/x-python",
   "name": "python",
   "nbconvert_exporter": "python",
   "pygments_lexer": "ipython3",
   "version": "3.7.1"
  }
 },
 "nbformat": 4,
 "nbformat_minor": 2
}
