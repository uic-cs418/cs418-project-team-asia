{
 "cells": [
  {
   "cell_type": "code",
   "execution_count": 20,
   "metadata": {},
   "outputs": [],
   "source": [
    "import datetime\n",
    "import pandas as pd\n",
    "import numpy as np\n",
    "import seaborn as sns\n",
    "%matplotlib inline\n",
    "import matplotlib.pyplot as plt\n",
    "from sklearn import linear_model\n",
    "from sklearn.metrics import mean_squared_error, r2_score\n",
    "from CreateCrimeRatioTable import CreateCrimeRatioTable\n",
    "from functions1 import removingJunk,makingAggTable,makeRatio,plotTogether,housePred\n",
    "from FindCorrelation import FindCorrelation\n",
    "from PlotCorrelation import PlotCorrelation\n",
    "from LinearRegressionCrime import predictForAllNeighborhood, FindRatio"
   ]
  },
  {
   "cell_type": "markdown",
   "metadata": {},
   "source": [
    "### Introduction\n",
    "\n",
    "This project is about analyzing crimes and house prices in Chicago. Based on the different house prices of different neighborhoods and the crime occurrence in those areas, our goal is to determine whether there is correlation between the crime rates and house prices in different neighborhoods. We have analyzed chicago crime data and median sale price of houses of different neighborhoods in Chicago. We have calculated the correlations between change in house prices and number of crimes in different neighborhoods from 2012-2018 and we came to a conclusion on whether or not there is a connection between them based on available data. Furthurmore, we have predicted house prices and number of crimes for two more years and shown that the predicted data also supports our conclusion. "
   ]
  },
  {
   "cell_type": "code",
   "execution_count": 27,
   "metadata": {},
   "outputs": [],
   "source": [
    "CrimeFile = 'D:/CS 418/Project/Merged/0To2043066.csv'\n",
    "CrimeDF = pd.read_csv(CrimeFile, keep_default_na=False)\n",
    "HousePriceFile = 'databyneighborhood.csv'\n",
    "HousePriceDF = pd.read_csv(HousePriceFile)"
   ]
  },
  {
   "cell_type": "markdown",
   "metadata": {},
   "source": [
    "### Data Cleaning\n",
    "\n",
    "We have used two different datasets for this project:\n",
    "\n",
    "1. Chicago crime data from city of chicago website: https://data.cityofchicago.org/Public-Safety/Crimes-2001-to-present/ijzp-q8t2/data\n",
    "2. Chicago house prices data from redfin: https://www.redfin.com/blog/data-center\n",
    "\n",
    "Since we have house price of chicago neighborhood from 2012-2018, we got rid of all the crimes which occurred before 2012 and after 2018. We also got rid of the rows with null values. There is no separate script for cleaning the crime data. Data before 2012 and after 2018 was filtered out when we downloaded the dataset. For removing rows with null values, we checked for null values before every operations. We ignored the rows which have a null value. \n",
    "\n",
    "After getting the house price data, we removed those column where there was no value available. We also planned to work with price per square feet value. So we keep Price per square and sale price and filtered out the rest. Each neighborhood name had unnecessary part. We removed that part, too."
   ]
  },
  {
   "cell_type": "code",
   "execution_count": null,
   "metadata": {},
   "outputs": [],
   "source": [
    "HousePriceDF = removingJunk(HousePriceDF)\n",
    "\n",
    "CrimeDF = CrimeDF[CrimeDF['Neighborhood'] != '']\n",
    "CrimeDF = CrimeDF[CrimeDF['Year'] != 2011]\n",
    "CrimeDF = CrimeDF[CrimeDF['Year'] != 2019]"
   ]
  },
  {
   "cell_type": "markdown",
   "metadata": {},
   "source": [
    "### Exploratory Data Analysis\n",
    "\n",
    "In our project we are using two datasets: Chicago Crime Data and House Prices Data.\n",
    "\n",
    "#### Chicago Crime Data: \n",
    "This dataset contains the criminal offences occurred in Chicago from 2001-2019. However, we are going to use crime data in 2012-2019. Each record in this dataset represents the details of a crime that happened in Chicago. The details include the time, type, description, location etc. of the crime. However, we are only going to use time and location of every crime. In this dataset, the neighborhood or the zipcode of the location of the crime is not given. Since, our goal is to analyze the crime happening in Chicago based on different areas and their relationship with the economy of those areas, we had to extract the neighborhoods from the location given in coordinates. We used the ArcGIS API to extract the neighborhoods. However, it is taking a huge amount of time to extract the neighborhoods with ArcGIS API. Although our whole dataset contains more than 2 million records, we are currently experimenting with half a million. We will use the whole dataset before our final submission. The function used for extracting the neighborhood data is given below.\n",
    "\n",
    "#### House Prices Data from Redfin: \n",
    "Redfin provides the data of home sale prices from 2012-2019. Each record represents a 90-day period. Each row includes median sale price, median price per square foot, median listed price, number of houses sold within that 90-day period in a particular neighborhood. We are going to relate our 2 datasets using their neighborhood.\n",
    "\n",
    "Some of the rows from out data sets are shown below:"
   ]
  },
  {
   "cell_type": "markdown",
   "metadata": {},
   "source": [
    "We used only a few columns of the crime dataset for our project:"
   ]
  },
  {
   "cell_type": "code",
   "execution_count": 5,
   "metadata": {},
   "outputs": [
    {
     "data": {
      "text/html": [
       "<div>\n",
       "<style scoped>\n",
       "    .dataframe tbody tr th:only-of-type {\n",
       "        vertical-align: middle;\n",
       "    }\n",
       "\n",
       "    .dataframe tbody tr th {\n",
       "        vertical-align: top;\n",
       "    }\n",
       "\n",
       "    .dataframe thead th {\n",
       "        text-align: right;\n",
       "    }\n",
       "</style>\n",
       "<table border=\"1\" class=\"dataframe\">\n",
       "  <thead>\n",
       "    <tr style=\"text-align: right;\">\n",
       "      <th></th>\n",
       "      <th>Year</th>\n",
       "      <th>Primary Type</th>\n",
       "      <th>X Coordinate</th>\n",
       "      <th>Y Coordinate</th>\n",
       "      <th>Neighborhood</th>\n",
       "    </tr>\n",
       "  </thead>\n",
       "  <tbody>\n",
       "    <tr>\n",
       "      <th>0</th>\n",
       "      <td>2015</td>\n",
       "      <td>BATTERY</td>\n",
       "      <td>1144606.0</td>\n",
       "      <td>1903566.0</td>\n",
       "      <td>Austin</td>\n",
       "    </tr>\n",
       "    <tr>\n",
       "      <th>1</th>\n",
       "      <td>2015</td>\n",
       "      <td>OTHER OFFENSE</td>\n",
       "      <td>1166468.0</td>\n",
       "      <td>1860715.0</td>\n",
       "      <td>West Englewood</td>\n",
       "    </tr>\n",
       "    <tr>\n",
       "      <th>2</th>\n",
       "      <td>2015</td>\n",
       "      <td>BATTERY</td>\n",
       "      <td>1185075.0</td>\n",
       "      <td>1875622.0</td>\n",
       "      <td>Kenwood</td>\n",
       "    </tr>\n",
       "    <tr>\n",
       "      <th>3</th>\n",
       "      <td>2015</td>\n",
       "      <td>BATTERY</td>\n",
       "      <td>1178033.0</td>\n",
       "      <td>1870804.0</td>\n",
       "      <td>Washington Park</td>\n",
       "    </tr>\n",
       "    <tr>\n",
       "      <th>4</th>\n",
       "      <td>2015</td>\n",
       "      <td>ROBBERY</td>\n",
       "      <td>1144920.0</td>\n",
       "      <td>1898709.0</td>\n",
       "      <td>Austin</td>\n",
       "    </tr>\n",
       "  </tbody>\n",
       "</table>\n",
       "</div>"
      ],
      "text/plain": [
       "   Year   Primary Type X Coordinate Y Coordinate     Neighborhood\n",
       "0  2015        BATTERY    1144606.0    1903566.0           Austin\n",
       "1  2015  OTHER OFFENSE    1166468.0    1860715.0   West Englewood\n",
       "2  2015        BATTERY    1185075.0    1875622.0          Kenwood\n",
       "3  2015        BATTERY    1178033.0    1870804.0  Washington Park\n",
       "4  2015        ROBBERY    1144920.0    1898709.0           Austin"
      ]
     },
     "execution_count": 5,
     "metadata": {},
     "output_type": "execute_result"
    }
   ],
   "source": [
    "CrimeDF[['Year','Primary Type','X Coordinate', 'Y Coordinate','Neighborhood']].head()"
   ]
  },
  {
   "cell_type": "code",
   "execution_count": 6,
   "metadata": {},
   "outputs": [
    {
     "data": {
      "text/html": [
       "<div>\n",
       "<style scoped>\n",
       "    .dataframe tbody tr th:only-of-type {\n",
       "        vertical-align: middle;\n",
       "    }\n",
       "\n",
       "    .dataframe tbody tr th {\n",
       "        vertical-align: top;\n",
       "    }\n",
       "\n",
       "    .dataframe thead th {\n",
       "        text-align: right;\n",
       "    }\n",
       "</style>\n",
       "<table border=\"1\" class=\"dataframe\">\n",
       "  <thead>\n",
       "    <tr style=\"text-align: right;\">\n",
       "      <th></th>\n",
       "      <th>Region</th>\n",
       "      <th>Period Begin</th>\n",
       "      <th>Median Ppsf</th>\n",
       "      <th>Median Sale Price</th>\n",
       "    </tr>\n",
       "  </thead>\n",
       "  <tbody>\n",
       "    <tr>\n",
       "      <th>0</th>\n",
       "      <td>Albany Park</td>\n",
       "      <td>11/1/2011</td>\n",
       "      <td>78.400000</td>\n",
       "      <td>$154K</td>\n",
       "    </tr>\n",
       "    <tr>\n",
       "      <th>1</th>\n",
       "      <td>Albany Park</td>\n",
       "      <td>12/1/2011</td>\n",
       "      <td>76.800000</td>\n",
       "      <td>$122K</td>\n",
       "    </tr>\n",
       "    <tr>\n",
       "      <th>2</th>\n",
       "      <td>Albany Park</td>\n",
       "      <td>1/1/2012</td>\n",
       "      <td>77.929915</td>\n",
       "      <td>$129K</td>\n",
       "    </tr>\n",
       "    <tr>\n",
       "      <th>3</th>\n",
       "      <td>Albany Park</td>\n",
       "      <td>2/1/2012</td>\n",
       "      <td>80.898704</td>\n",
       "      <td>$131K</td>\n",
       "    </tr>\n",
       "    <tr>\n",
       "      <th>4</th>\n",
       "      <td>Albany Park</td>\n",
       "      <td>3/1/2012</td>\n",
       "      <td>98.397311</td>\n",
       "      <td>$141K</td>\n",
       "    </tr>\n",
       "  </tbody>\n",
       "</table>\n",
       "</div>"
      ],
      "text/plain": [
       "        Region Period Begin  Median Ppsf Median Sale Price\n",
       "0  Albany Park    11/1/2011    78.400000             $154K\n",
       "1  Albany Park    12/1/2011    76.800000             $122K\n",
       "2  Albany Park     1/1/2012    77.929915             $129K\n",
       "3  Albany Park     2/1/2012    80.898704             $131K\n",
       "4  Albany Park     3/1/2012    98.397311             $141K"
      ]
     },
     "execution_count": 6,
     "metadata": {},
     "output_type": "execute_result"
    }
   ],
   "source": [
    "HousePriceDF.head()"
   ]
  },
  {
   "cell_type": "markdown",
   "metadata": {},
   "source": [
    "### Data Transformation\n",
    "To perform our experiments, we had to make a few transfomations to our data. We had to aggregate the crime data based on the count of crimes in each year in each neighborhood and calculated their ratio. The following function both of these things and writes them into csv files."
   ]
  },
  {
   "cell_type": "code",
   "execution_count": 4,
   "metadata": {},
   "outputs": [],
   "source": [
    "CreateCrimeRatioTable(CrimeDF,'CrimeRatioTable.csv','CrimeCountTable.csv')"
   ]
  },
  {
   "cell_type": "markdown",
   "metadata": {},
   "source": [
    "After aggregating the data based on the count of crimes in each neighborhood by year, the crime data looks as follows:"
   ]
  },
  {
   "cell_type": "code",
   "execution_count": 5,
   "metadata": {},
   "outputs": [
    {
     "data": {
      "text/html": [
       "<div>\n",
       "<style scoped>\n",
       "    .dataframe tbody tr th:only-of-type {\n",
       "        vertical-align: middle;\n",
       "    }\n",
       "\n",
       "    .dataframe tbody tr th {\n",
       "        vertical-align: top;\n",
       "    }\n",
       "\n",
       "    .dataframe thead th {\n",
       "        text-align: right;\n",
       "    }\n",
       "</style>\n",
       "<table border=\"1\" class=\"dataframe\">\n",
       "  <thead>\n",
       "    <tr style=\"text-align: right;\">\n",
       "      <th></th>\n",
       "      <th>Neighborhood</th>\n",
       "      <th>2012</th>\n",
       "      <th>2013</th>\n",
       "      <th>2014</th>\n",
       "      <th>2015</th>\n",
       "      <th>2016</th>\n",
       "      <th>2017</th>\n",
       "      <th>2018</th>\n",
       "    </tr>\n",
       "  </thead>\n",
       "  <tbody>\n",
       "    <tr>\n",
       "      <th>0</th>\n",
       "      <td>Albany Park</td>\n",
       "      <td>2956</td>\n",
       "      <td>2708</td>\n",
       "      <td>2404</td>\n",
       "      <td>2481</td>\n",
       "      <td>2383</td>\n",
       "      <td>2456</td>\n",
       "      <td>2415</td>\n",
       "    </tr>\n",
       "    <tr>\n",
       "      <th>1</th>\n",
       "      <td>Andersonville</td>\n",
       "      <td>517</td>\n",
       "      <td>466</td>\n",
       "      <td>382</td>\n",
       "      <td>419</td>\n",
       "      <td>407</td>\n",
       "      <td>500</td>\n",
       "      <td>527</td>\n",
       "    </tr>\n",
       "    <tr>\n",
       "      <th>2</th>\n",
       "      <td>Archer Heights</td>\n",
       "      <td>1251</td>\n",
       "      <td>1299</td>\n",
       "      <td>1076</td>\n",
       "      <td>1000</td>\n",
       "      <td>893</td>\n",
       "      <td>864</td>\n",
       "      <td>855</td>\n",
       "    </tr>\n",
       "    <tr>\n",
       "      <th>3</th>\n",
       "      <td>Armour Square</td>\n",
       "      <td>787</td>\n",
       "      <td>649</td>\n",
       "      <td>568</td>\n",
       "      <td>544</td>\n",
       "      <td>510</td>\n",
       "      <td>529</td>\n",
       "      <td>492</td>\n",
       "    </tr>\n",
       "    <tr>\n",
       "      <th>4</th>\n",
       "      <td>Ashburn</td>\n",
       "      <td>2110</td>\n",
       "      <td>2143</td>\n",
       "      <td>2033</td>\n",
       "      <td>1690</td>\n",
       "      <td>1883</td>\n",
       "      <td>1874</td>\n",
       "      <td>1802</td>\n",
       "    </tr>\n",
       "  </tbody>\n",
       "</table>\n",
       "</div>"
      ],
      "text/plain": [
       "     Neighborhood  2012  2013  2014  2015  2016  2017  2018\n",
       "0     Albany Park  2956  2708  2404  2481  2383  2456  2415\n",
       "1   Andersonville   517   466   382   419   407   500   527\n",
       "2  Archer Heights  1251  1299  1076  1000   893   864   855\n",
       "3   Armour Square   787   649   568   544   510   529   492\n",
       "4         Ashburn  2110  2143  2033  1690  1883  1874  1802"
      ]
     },
     "execution_count": 5,
     "metadata": {},
     "output_type": "execute_result"
    }
   ],
   "source": [
    "CrimeCountTable = pd.read_csv('CrimeCountTable.csv',usecols=range(1,9))\n",
    "CrimeCountTable.head()"
   ]
  },
  {
   "cell_type": "markdown",
   "metadata": {},
   "source": [
    "Crime ratio for each year was calculated with this formula: \n",
    "Ratio = (value for a neighborhood)/(sum of value for all neighborhoods). After calculating the crime ratio our data looks like the following:\n"
   ]
  },
  {
   "cell_type": "code",
   "execution_count": 6,
   "metadata": {},
   "outputs": [
    {
     "data": {
      "text/html": [
       "<div>\n",
       "<style scoped>\n",
       "    .dataframe tbody tr th:only-of-type {\n",
       "        vertical-align: middle;\n",
       "    }\n",
       "\n",
       "    .dataframe tbody tr th {\n",
       "        vertical-align: top;\n",
       "    }\n",
       "\n",
       "    .dataframe thead th {\n",
       "        text-align: right;\n",
       "    }\n",
       "</style>\n",
       "<table border=\"1\" class=\"dataframe\">\n",
       "  <thead>\n",
       "    <tr style=\"text-align: right;\">\n",
       "      <th></th>\n",
       "      <th>Neighborhood</th>\n",
       "      <th>2012</th>\n",
       "      <th>2013</th>\n",
       "      <th>2014</th>\n",
       "      <th>2015</th>\n",
       "      <th>2016</th>\n",
       "      <th>2017</th>\n",
       "      <th>2018</th>\n",
       "    </tr>\n",
       "  </thead>\n",
       "  <tbody>\n",
       "    <tr>\n",
       "      <th>0</th>\n",
       "      <td>Albany Park</td>\n",
       "      <td>0.008974</td>\n",
       "      <td>0.009013</td>\n",
       "      <td>0.008961</td>\n",
       "      <td>0.009896</td>\n",
       "      <td>0.009255</td>\n",
       "      <td>0.009439</td>\n",
       "      <td>0.009327</td>\n",
       "    </tr>\n",
       "    <tr>\n",
       "      <th>1</th>\n",
       "      <td>Andersonville</td>\n",
       "      <td>0.001570</td>\n",
       "      <td>0.001551</td>\n",
       "      <td>0.001424</td>\n",
       "      <td>0.001671</td>\n",
       "      <td>0.001581</td>\n",
       "      <td>0.001922</td>\n",
       "      <td>0.002035</td>\n",
       "    </tr>\n",
       "    <tr>\n",
       "      <th>2</th>\n",
       "      <td>Archer Heights</td>\n",
       "      <td>0.003798</td>\n",
       "      <td>0.004324</td>\n",
       "      <td>0.004011</td>\n",
       "      <td>0.003989</td>\n",
       "      <td>0.003468</td>\n",
       "      <td>0.003321</td>\n",
       "      <td>0.003302</td>\n",
       "    </tr>\n",
       "    <tr>\n",
       "      <th>3</th>\n",
       "      <td>Armour Square</td>\n",
       "      <td>0.002389</td>\n",
       "      <td>0.002160</td>\n",
       "      <td>0.002117</td>\n",
       "      <td>0.002170</td>\n",
       "      <td>0.001981</td>\n",
       "      <td>0.002033</td>\n",
       "      <td>0.001900</td>\n",
       "    </tr>\n",
       "    <tr>\n",
       "      <th>4</th>\n",
       "      <td>Ashburn</td>\n",
       "      <td>0.006406</td>\n",
       "      <td>0.007133</td>\n",
       "      <td>0.007578</td>\n",
       "      <td>0.006741</td>\n",
       "      <td>0.007313</td>\n",
       "      <td>0.007202</td>\n",
       "      <td>0.006960</td>\n",
       "    </tr>\n",
       "  </tbody>\n",
       "</table>\n",
       "</div>"
      ],
      "text/plain": [
       "     Neighborhood      2012      2013      2014      2015      2016      2017  \\\n",
       "0     Albany Park  0.008974  0.009013  0.008961  0.009896  0.009255  0.009439   \n",
       "1   Andersonville  0.001570  0.001551  0.001424  0.001671  0.001581  0.001922   \n",
       "2  Archer Heights  0.003798  0.004324  0.004011  0.003989  0.003468  0.003321   \n",
       "3   Armour Square  0.002389  0.002160  0.002117  0.002170  0.001981  0.002033   \n",
       "4         Ashburn  0.006406  0.007133  0.007578  0.006741  0.007313  0.007202   \n",
       "\n",
       "       2018  \n",
       "0  0.009327  \n",
       "1  0.002035  \n",
       "2  0.003302  \n",
       "3  0.001900  \n",
       "4  0.006960  "
      ]
     },
     "execution_count": 6,
     "metadata": {},
     "output_type": "execute_result"
    }
   ],
   "source": [
    "CrimeRatioTable = pd.read_csv('CrimeRatioTable.csv',usecols=range(1,9))\n",
    "CrimeRatioTable.head()"
   ]
  },
  {
   "cell_type": "markdown",
   "metadata": {},
   "source": [
    "Similarly, house price data was aggregated the following way:"
   ]
  },
  {
   "cell_type": "code",
   "execution_count": 23,
   "metadata": {},
   "outputs": [
    {
     "data": {
      "text/html": [
       "<div>\n",
       "<style scoped>\n",
       "    .dataframe tbody tr th:only-of-type {\n",
       "        vertical-align: middle;\n",
       "    }\n",
       "\n",
       "    .dataframe tbody tr th {\n",
       "        vertical-align: top;\n",
       "    }\n",
       "\n",
       "    .dataframe thead th {\n",
       "        text-align: right;\n",
       "    }\n",
       "</style>\n",
       "<table border=\"1\" class=\"dataframe\">\n",
       "  <thead>\n",
       "    <tr style=\"text-align: right;\">\n",
       "      <th></th>\n",
       "      <th>Region</th>\n",
       "      <th>2012</th>\n",
       "      <th>2013</th>\n",
       "      <th>2014</th>\n",
       "      <th>2015</th>\n",
       "      <th>2016</th>\n",
       "      <th>2017</th>\n",
       "      <th>2018</th>\n",
       "    </tr>\n",
       "  </thead>\n",
       "  <tbody>\n",
       "    <tr>\n",
       "      <th>0</th>\n",
       "      <td>Albany Park</td>\n",
       "      <td>93.062070</td>\n",
       "      <td>116.903397</td>\n",
       "      <td>139.914415</td>\n",
       "      <td>161.251708</td>\n",
       "      <td>166.746980</td>\n",
       "      <td>180.237282</td>\n",
       "      <td>178.734439</td>\n",
       "    </tr>\n",
       "    <tr>\n",
       "      <th>1</th>\n",
       "      <td>Andersonville</td>\n",
       "      <td>184.337836</td>\n",
       "      <td>208.289592</td>\n",
       "      <td>221.668547</td>\n",
       "      <td>231.906399</td>\n",
       "      <td>245.259777</td>\n",
       "      <td>250.123551</td>\n",
       "      <td>252.408994</td>\n",
       "    </tr>\n",
       "    <tr>\n",
       "      <th>2</th>\n",
       "      <td>Arcadia Terrace</td>\n",
       "      <td>76.099988</td>\n",
       "      <td>122.293995</td>\n",
       "      <td>135.938735</td>\n",
       "      <td>130.042807</td>\n",
       "      <td>145.536179</td>\n",
       "      <td>149.176003</td>\n",
       "      <td>168.142864</td>\n",
       "    </tr>\n",
       "    <tr>\n",
       "      <th>3</th>\n",
       "      <td>Archer Heights</td>\n",
       "      <td>92.709469</td>\n",
       "      <td>115.030644</td>\n",
       "      <td>114.896564</td>\n",
       "      <td>115.273792</td>\n",
       "      <td>122.026048</td>\n",
       "      <td>130.403410</td>\n",
       "      <td>149.643161</td>\n",
       "    </tr>\n",
       "    <tr>\n",
       "      <th>4</th>\n",
       "      <td>Ashburn</td>\n",
       "      <td>86.910210</td>\n",
       "      <td>93.730106</td>\n",
       "      <td>105.626761</td>\n",
       "      <td>113.026044</td>\n",
       "      <td>123.249076</td>\n",
       "      <td>138.113684</td>\n",
       "      <td>144.153547</td>\n",
       "    </tr>\n",
       "  </tbody>\n",
       "</table>\n",
       "</div>"
      ],
      "text/plain": [
       "            Region        2012        2013        2014        2015  \\\n",
       "0      Albany Park   93.062070  116.903397  139.914415  161.251708   \n",
       "1    Andersonville  184.337836  208.289592  221.668547  231.906399   \n",
       "2  Arcadia Terrace   76.099988  122.293995  135.938735  130.042807   \n",
       "3   Archer Heights   92.709469  115.030644  114.896564  115.273792   \n",
       "4          Ashburn   86.910210   93.730106  105.626761  113.026044   \n",
       "\n",
       "         2016        2017        2018  \n",
       "0  166.746980  180.237282  178.734439  \n",
       "1  245.259777  250.123551  252.408994  \n",
       "2  145.536179  149.176003  168.142864  \n",
       "3  122.026048  130.403410  149.643161  \n",
       "4  123.249076  138.113684  144.153547  "
      ]
     },
     "execution_count": 23,
     "metadata": {},
     "output_type": "execute_result"
    }
   ],
   "source": [
    "HousePriceAggregated = makingAggTable(HousePriceDF)\n",
    "HousePriceAggregated.head()"
   ]
  },
  {
   "cell_type": "markdown",
   "metadata": {},
   "source": [
    "And, we also calculated the ratio of house prices for each neighborhood by year"
   ]
  },
  {
   "cell_type": "code",
   "execution_count": 9,
   "metadata": {},
   "outputs": [
    {
     "data": {
      "text/html": [
       "<div>\n",
       "<style scoped>\n",
       "    .dataframe tbody tr th:only-of-type {\n",
       "        vertical-align: middle;\n",
       "    }\n",
       "\n",
       "    .dataframe tbody tr th {\n",
       "        vertical-align: top;\n",
       "    }\n",
       "\n",
       "    .dataframe thead th {\n",
       "        text-align: right;\n",
       "    }\n",
       "</style>\n",
       "<table border=\"1\" class=\"dataframe\">\n",
       "  <thead>\n",
       "    <tr style=\"text-align: right;\">\n",
       "      <th></th>\n",
       "      <th>Region</th>\n",
       "      <th>2012</th>\n",
       "      <th>2013</th>\n",
       "      <th>2014</th>\n",
       "      <th>2015</th>\n",
       "      <th>2016</th>\n",
       "      <th>2017</th>\n",
       "      <th>2018</th>\n",
       "    </tr>\n",
       "  </thead>\n",
       "  <tbody>\n",
       "    <tr>\n",
       "      <th>0</th>\n",
       "      <td>Albany Park</td>\n",
       "      <td>0.004420</td>\n",
       "      <td>0.004849</td>\n",
       "      <td>0.005217</td>\n",
       "      <td>0.005721</td>\n",
       "      <td>0.005535</td>\n",
       "      <td>0.005702</td>\n",
       "      <td>0.005392</td>\n",
       "    </tr>\n",
       "    <tr>\n",
       "      <th>1</th>\n",
       "      <td>Andersonville</td>\n",
       "      <td>0.008756</td>\n",
       "      <td>0.008639</td>\n",
       "      <td>0.008265</td>\n",
       "      <td>0.008228</td>\n",
       "      <td>0.008141</td>\n",
       "      <td>0.007913</td>\n",
       "      <td>0.007615</td>\n",
       "    </tr>\n",
       "    <tr>\n",
       "      <th>2</th>\n",
       "      <td>Arcadia Terrace</td>\n",
       "      <td>0.003615</td>\n",
       "      <td>0.005073</td>\n",
       "      <td>0.005069</td>\n",
       "      <td>0.004614</td>\n",
       "      <td>0.004831</td>\n",
       "      <td>0.004720</td>\n",
       "      <td>0.005072</td>\n",
       "    </tr>\n",
       "    <tr>\n",
       "      <th>3</th>\n",
       "      <td>Archer Heights</td>\n",
       "      <td>0.004403</td>\n",
       "      <td>0.004771</td>\n",
       "      <td>0.004284</td>\n",
       "      <td>0.004090</td>\n",
       "      <td>0.004050</td>\n",
       "      <td>0.004126</td>\n",
       "      <td>0.004514</td>\n",
       "    </tr>\n",
       "    <tr>\n",
       "      <th>4</th>\n",
       "      <td>Ashburn</td>\n",
       "      <td>0.004128</td>\n",
       "      <td>0.003888</td>\n",
       "      <td>0.003938</td>\n",
       "      <td>0.004010</td>\n",
       "      <td>0.004091</td>\n",
       "      <td>0.004370</td>\n",
       "      <td>0.004349</td>\n",
       "    </tr>\n",
       "  </tbody>\n",
       "</table>\n",
       "</div>"
      ],
      "text/plain": [
       "            Region      2012      2013      2014      2015      2016  \\\n",
       "0      Albany Park  0.004420  0.004849  0.005217  0.005721  0.005535   \n",
       "1    Andersonville  0.008756  0.008639  0.008265  0.008228  0.008141   \n",
       "2  Arcadia Terrace  0.003615  0.005073  0.005069  0.004614  0.004831   \n",
       "3   Archer Heights  0.004403  0.004771  0.004284  0.004090  0.004050   \n",
       "4          Ashburn  0.004128  0.003888  0.003938  0.004010  0.004091   \n",
       "\n",
       "       2017      2018  \n",
       "0  0.005702  0.005392  \n",
       "1  0.007913  0.007615  \n",
       "2  0.004720  0.005072  \n",
       "3  0.004126  0.004514  \n",
       "4  0.004370  0.004349  "
      ]
     },
     "execution_count": 9,
     "metadata": {},
     "output_type": "execute_result"
    }
   ],
   "source": [
    "HousePriceRatio = makeRatio(HousePriceAggregated,7)\n",
    "HousePriceRatio.head()"
   ]
  },
  {
   "cell_type": "markdown",
   "metadata": {},
   "source": [
    "#### Road to Hypothesis\n",
    "We plotted the house price(ratio) and crime price(ratio) trends. Around 75% are inverse to each other."
   ]
  },
  {
   "cell_type": "code",
   "execution_count": 16,
   "metadata": {},
   "outputs": [
    {
     "data": {
      "image/png": "[encoded data removed]",
      "text/plain": [
       "<Figure size 432x288 with 2 Axes>"
      ]
     },
     "metadata": {
      "needs_background": "light"
     },
     "output_type": "display_data"
    },
    {
     "data": {
      "image/png": "[encoded data removed]",
      "text/plain": [
       "<Figure size 432x288 with 2 Axes>"
      ]
     },
     "metadata": {
      "needs_background": "light"
     },
     "output_type": "display_data"
    }
   ],
   "source": [
    "plotTogether('Woodlawn',CrimeRatioTable,HousePriceRatio)\n",
    "plotTogether('River North',CrimeRatioTable,HousePriceRatio)"
   ]
  },
  {
   "cell_type": "markdown",
   "metadata": {},
   "source": [
    "### Hypothesis:\n",
    "From EDA, we hypothesize that there is an inverse relationship between change in house price ratio and change in crime ratio. In other words, we want to show that there is a strong negative correlation between house price ratio and crime ratio. "
   ]
  },
  {
   "cell_type": "markdown",
   "metadata": {},
   "source": [
    "### Correlations:\n",
    "We calculated the pearson correlation coefficient between house price ratio and crime ratio for each neighborhood and plotted them in a graph. It was observed that 77.33% had a negative correlation between crime ratio and house price ratio and 22.67% neighborhoods showed a positive correlation"
   ]
  },
  {
   "cell_type": "code",
   "execution_count": 10,
   "metadata": {},
   "outputs": [],
   "source": [
    "#HousePriceRatio = pd.read_csv('neighborByYearRatio.csv',usecols=range(1,9))\n",
    "FindCorrelation(CrimeRatioTable, HousePriceRatio,'Correlation_ratio.csv')\n"
   ]
  },
  {
   "cell_type": "code",
   "execution_count": 11,
   "metadata": {},
   "outputs": [
    {
     "data": {
      "image/png": "[encoded data removed]",
      "text/plain": [
       "<Figure size 432x288 with 1 Axes>"
      ]
     },
     "metadata": {
      "needs_background": "light"
     },
     "output_type": "display_data"
    }
   ],
   "source": [
    "Correlations = pd.read_csv('Correlation_ratio.csv', usecols=range(1,5))\n",
    "PlotCorrelation(Correlations,'PositiveOrNegative')"
   ]
  },
  {
   "cell_type": "markdown",
   "metadata": {},
   "source": [
    "### ML Analysis\n",
    "Given that we only had data for only 7 years, we wanted to check if the correlations were projected to change for future data. Linear regression was used to predict number of crimes and household prices in the neighbourhood for 2 more years(2019,2020). After prediction, the ratios for those years were calculated."
   ]
  },
  {
   "cell_type": "code",
   "execution_count": null,
   "metadata": {},
   "outputs": [],
   "source": [
    "neighborhoods = CrimeDF['Neighborhood'].unique()\n",
    "groupedByNeighbourhood = CrimeDF.groupby('Neighborhood')\n",
    "pred = predictForAllNeighborhood(groupedByNeighbourhood,neighborhoods)\n",
    "\n"
   ]
  },
  {
   "cell_type": "code",
   "execution_count": null,
   "metadata": {},
   "outputs": [],
   "source": [
    "FindRatio(pred,CrimeRatioTable,'CrimeRatioWithPredicted.csv')"
   ]
  },
  {
   "cell_type": "code",
   "execution_count": 19,
   "metadata": {},
   "outputs": [],
   "source": [
    "CrimeRatioWithPredicted = pd.read_csv('CrimeRatioWithPredicted.csv',usecols=range(1,11))"
   ]
  },
  {
   "cell_type": "code",
   "execution_count": 24,
   "metadata": {},
   "outputs": [
    {
     "name": "stderr",
     "output_type": "stream",
     "text": [
      "C:\\Users\\shafi\\AppData\\Roaming\\Python\\Python37\\site-packages\\pandas\\core\\ops.py:1649: FutureWarning: elementwise comparison failed; returning scalar instead, but in the future will perform elementwise comparison\n",
      "  result = method(y)\n"
     ]
    },
    {
     "ename": "ValueError",
     "evalue": "Input contains NaN, infinity or a value too large for dtype('float64').",
     "output_type": "error",
     "traceback": [
      "\u001b[1;31m---------------------------------------------------------------------------\u001b[0m",
      "\u001b[1;31mValueError\u001b[0m                                Traceback (most recent call last)",
      "\u001b[1;32m<ipython-input-24-4e3e650e74c2>\u001b[0m in \u001b[0;36m<module>\u001b[1;34m\u001b[0m\n\u001b[1;32m----> 1\u001b[1;33m \u001b[0mHousePriceWithPredicted\u001b[0m \u001b[1;33m=\u001b[0m \u001b[0mhousePred\u001b[0m\u001b[1;33m(\u001b[0m\u001b[0mHousePriceDF\u001b[0m\u001b[1;33m,\u001b[0m\u001b[0mHousePriceAggregated\u001b[0m\u001b[1;33m)\u001b[0m\u001b[1;33m\u001b[0m\u001b[1;33m\u001b[0m\u001b[0m\n\u001b[0m\u001b[0;32m      2\u001b[0m \u001b[0mHousePriceWithPredicted\u001b[0m\u001b[1;33m.\u001b[0m\u001b[0mhead\u001b[0m\u001b[1;33m(\u001b[0m\u001b[1;33m)\u001b[0m\u001b[1;33m\u001b[0m\u001b[1;33m\u001b[0m\u001b[0m\n",
      "\u001b[1;32m~\\Desktop\\cs418-project-team-asia\\functions1.py\u001b[0m in \u001b[0;36mhousePred\u001b[1;34m(df1, count)\u001b[0m\n\u001b[0;32m    136\u001b[0m         \u001b[0mregr\u001b[0m \u001b[1;33m=\u001b[0m \u001b[0mlinear_model\u001b[0m\u001b[1;33m.\u001b[0m\u001b[0mLinearRegression\u001b[0m\u001b[1;33m(\u001b[0m\u001b[1;33m)\u001b[0m\u001b[1;33m\u001b[0m\u001b[1;33m\u001b[0m\u001b[0m\n\u001b[0;32m    137\u001b[0m         \u001b[1;31m# Train the model using the training sets\u001b[0m\u001b[1;33m\u001b[0m\u001b[1;33m\u001b[0m\u001b[1;33m\u001b[0m\u001b[0m\n\u001b[1;32m--> 138\u001b[1;33m         \u001b[0mregr\u001b[0m\u001b[1;33m.\u001b[0m\u001b[0mfit\u001b[0m\u001b[1;33m(\u001b[0m\u001b[0mx\u001b[0m\u001b[1;33m[\u001b[0m\u001b[1;33m:\u001b[0m\u001b[1;33m,\u001b[0m\u001b[0mnp\u001b[0m\u001b[1;33m.\u001b[0m\u001b[0mnewaxis\u001b[0m\u001b[1;33m]\u001b[0m\u001b[1;33m,\u001b[0m \u001b[0my\u001b[0m\u001b[1;33m[\u001b[0m\u001b[1;33m:\u001b[0m\u001b[1;33m,\u001b[0m\u001b[0mnp\u001b[0m\u001b[1;33m.\u001b[0m\u001b[0mnewaxis\u001b[0m\u001b[1;33m]\u001b[0m\u001b[1;33m)\u001b[0m\u001b[1;33m\u001b[0m\u001b[1;33m\u001b[0m\u001b[0m\n\u001b[0m\u001b[0;32m    139\u001b[0m         \u001b[0mx_test\u001b[0m \u001b[1;33m=\u001b[0m \u001b[0mnp\u001b[0m\u001b[1;33m.\u001b[0m\u001b[0marange\u001b[0m\u001b[1;33m(\u001b[0m\u001b[1;36m87\u001b[0m\u001b[1;33m,\u001b[0m\u001b[1;36m115\u001b[0m\u001b[1;33m)\u001b[0m\u001b[1;33m\u001b[0m\u001b[1;33m\u001b[0m\u001b[0m\n\u001b[0;32m    140\u001b[0m         \u001b[1;31m# Make predictions using the testing set\u001b[0m\u001b[1;33m\u001b[0m\u001b[1;33m\u001b[0m\u001b[1;33m\u001b[0m\u001b[0m\n",
      "\u001b[1;32m~\\Anaconda3\\envs\\cs418env\\lib\\site-packages\\sklearn\\linear_model\\base.py\u001b[0m in \u001b[0;36mfit\u001b[1;34m(self, X, y, sample_weight)\u001b[0m\n\u001b[0;32m    456\u001b[0m         \u001b[0mn_jobs_\u001b[0m \u001b[1;33m=\u001b[0m \u001b[0mself\u001b[0m\u001b[1;33m.\u001b[0m\u001b[0mn_jobs\u001b[0m\u001b[1;33m\u001b[0m\u001b[1;33m\u001b[0m\u001b[0m\n\u001b[0;32m    457\u001b[0m         X, y = check_X_y(X, y, accept_sparse=['csr', 'csc', 'coo'],\n\u001b[1;32m--> 458\u001b[1;33m                          y_numeric=True, multi_output=True)\n\u001b[0m\u001b[0;32m    459\u001b[0m \u001b[1;33m\u001b[0m\u001b[0m\n\u001b[0;32m    460\u001b[0m         \u001b[1;32mif\u001b[0m \u001b[0msample_weight\u001b[0m \u001b[1;32mis\u001b[0m \u001b[1;32mnot\u001b[0m \u001b[1;32mNone\u001b[0m \u001b[1;32mand\u001b[0m \u001b[0mnp\u001b[0m\u001b[1;33m.\u001b[0m\u001b[0matleast_1d\u001b[0m\u001b[1;33m(\u001b[0m\u001b[0msample_weight\u001b[0m\u001b[1;33m)\u001b[0m\u001b[1;33m.\u001b[0m\u001b[0mndim\u001b[0m \u001b[1;33m>\u001b[0m \u001b[1;36m1\u001b[0m\u001b[1;33m:\u001b[0m\u001b[1;33m\u001b[0m\u001b[1;33m\u001b[0m\u001b[0m\n",
      "\u001b[1;32m~\\Anaconda3\\envs\\cs418env\\lib\\site-packages\\sklearn\\utils\\validation.py\u001b[0m in \u001b[0;36mcheck_X_y\u001b[1;34m(X, y, accept_sparse, accept_large_sparse, dtype, order, copy, force_all_finite, ensure_2d, allow_nd, multi_output, ensure_min_samples, ensure_min_features, y_numeric, warn_on_dtype, estimator)\u001b[0m\n\u001b[0;32m    757\u001b[0m     \u001b[1;32mif\u001b[0m \u001b[0mmulti_output\u001b[0m\u001b[1;33m:\u001b[0m\u001b[1;33m\u001b[0m\u001b[1;33m\u001b[0m\u001b[0m\n\u001b[0;32m    758\u001b[0m         y = check_array(y, 'csr', force_all_finite=True, ensure_2d=False,\n\u001b[1;32m--> 759\u001b[1;33m                         dtype=None)\n\u001b[0m\u001b[0;32m    760\u001b[0m     \u001b[1;32melse\u001b[0m\u001b[1;33m:\u001b[0m\u001b[1;33m\u001b[0m\u001b[1;33m\u001b[0m\u001b[0m\n\u001b[0;32m    761\u001b[0m         \u001b[0my\u001b[0m \u001b[1;33m=\u001b[0m \u001b[0mcolumn_or_1d\u001b[0m\u001b[1;33m(\u001b[0m\u001b[0my\u001b[0m\u001b[1;33m,\u001b[0m \u001b[0mwarn\u001b[0m\u001b[1;33m=\u001b[0m\u001b[1;32mTrue\u001b[0m\u001b[1;33m)\u001b[0m\u001b[1;33m\u001b[0m\u001b[1;33m\u001b[0m\u001b[0m\n",
      "\u001b[1;32m~\\Anaconda3\\envs\\cs418env\\lib\\site-packages\\sklearn\\utils\\validation.py\u001b[0m in \u001b[0;36mcheck_array\u001b[1;34m(array, accept_sparse, accept_large_sparse, dtype, order, copy, force_all_finite, ensure_2d, allow_nd, ensure_min_samples, ensure_min_features, warn_on_dtype, estimator)\u001b[0m\n\u001b[0;32m    571\u001b[0m         \u001b[1;32mif\u001b[0m \u001b[0mforce_all_finite\u001b[0m\u001b[1;33m:\u001b[0m\u001b[1;33m\u001b[0m\u001b[1;33m\u001b[0m\u001b[0m\n\u001b[0;32m    572\u001b[0m             _assert_all_finite(array,\n\u001b[1;32m--> 573\u001b[1;33m                                allow_nan=force_all_finite == 'allow-nan')\n\u001b[0m\u001b[0;32m    574\u001b[0m \u001b[1;33m\u001b[0m\u001b[0m\n\u001b[0;32m    575\u001b[0m     \u001b[0mshape_repr\u001b[0m \u001b[1;33m=\u001b[0m \u001b[0m_shape_repr\u001b[0m\u001b[1;33m(\u001b[0m\u001b[0marray\u001b[0m\u001b[1;33m.\u001b[0m\u001b[0mshape\u001b[0m\u001b[1;33m)\u001b[0m\u001b[1;33m\u001b[0m\u001b[1;33m\u001b[0m\u001b[0m\n",
      "\u001b[1;32m~\\Anaconda3\\envs\\cs418env\\lib\\site-packages\\sklearn\\utils\\validation.py\u001b[0m in \u001b[0;36m_assert_all_finite\u001b[1;34m(X, allow_nan)\u001b[0m\n\u001b[0;32m     54\u001b[0m                 not allow_nan and not np.isfinite(X).all()):\n\u001b[0;32m     55\u001b[0m             \u001b[0mtype_err\u001b[0m \u001b[1;33m=\u001b[0m \u001b[1;34m'infinity'\u001b[0m \u001b[1;32mif\u001b[0m \u001b[0mallow_nan\u001b[0m \u001b[1;32melse\u001b[0m \u001b[1;34m'NaN, infinity'\u001b[0m\u001b[1;33m\u001b[0m\u001b[1;33m\u001b[0m\u001b[0m\n\u001b[1;32m---> 56\u001b[1;33m             \u001b[1;32mraise\u001b[0m \u001b[0mValueError\u001b[0m\u001b[1;33m(\u001b[0m\u001b[0mmsg_err\u001b[0m\u001b[1;33m.\u001b[0m\u001b[0mformat\u001b[0m\u001b[1;33m(\u001b[0m\u001b[0mtype_err\u001b[0m\u001b[1;33m,\u001b[0m \u001b[0mX\u001b[0m\u001b[1;33m.\u001b[0m\u001b[0mdtype\u001b[0m\u001b[1;33m)\u001b[0m\u001b[1;33m)\u001b[0m\u001b[1;33m\u001b[0m\u001b[1;33m\u001b[0m\u001b[0m\n\u001b[0m\u001b[0;32m     57\u001b[0m \u001b[1;33m\u001b[0m\u001b[0m\n\u001b[0;32m     58\u001b[0m \u001b[1;33m\u001b[0m\u001b[0m\n",
      "\u001b[1;31mValueError\u001b[0m: Input contains NaN, infinity or a value too large for dtype('float64')."
     ]
    }
   ],
   "source": [
    "HousePriceWithPredicted = housePred(HousePriceDF,HousePriceAggregated)\n",
    "HousePriceWithPredicted.head()"
   ]
  }
 ],
 "metadata": {
  "kernelspec": {
   "display_name": "Python 3",
   "language": "python",
   "name": "python3"
  },
  "language_info": {
   "codemirror_mode": {
    "name": "ipython",
    "version": 3
   },
   "file_extension": ".py",
   "mimetype": "text/x-python",
   "name": "python",
   "nbconvert_exporter": "python",
   "pygments_lexer": "ipython3",
   "version": "3.7.1"
  }
 },
 "nbformat": 4,
 "nbformat_minor": 2
}
